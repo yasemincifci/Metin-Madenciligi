{
  "cells": [
    {
      "cell_type": "code",
      "execution_count": null,
      "metadata": {
        "colab": {
          "base_uri": "https://localhost:8080/"
        },
        "id": "Xrm1MRmZkB4j",
        "outputId": "f79743b1-a350-4ed0-938d-ab6b57f14690"
      },
      "outputs": [
        {
          "name": "stdout",
          "output_type": "stream",
          "text": [
            "Collecting PyPDF2\n",
            "  Downloading pypdf2-3.0.1-py3-none-any.whl (232 kB)\n",
            "\u001b[?25l     \u001b[90m━━━━━━━━━━━━━━━━━━━━━━━━━━━━━━━━━━━━━━━━\u001b[0m \u001b[32m0.0/232.6 kB\u001b[0m \u001b[31m?\u001b[0m eta \u001b[36m-:--:--\u001b[0m\r\u001b[2K     \u001b[91m━━━━━━━━━━━━━━━━━━━━━\u001b[0m\u001b[90m╺\u001b[0m\u001b[90m━━━━━━━━━━━━━━━━━━\u001b[0m \u001b[32m122.9/232.6 kB\u001b[0m \u001b[31m3.4 MB/s\u001b[0m eta \u001b[36m0:00:01\u001b[0m\r\u001b[2K     \u001b[90m━━━━━━━━━━━━━━━━━━━━━━━━━━━━━━━━━━━━━━━━\u001b[0m \u001b[32m232.6/232.6 kB\u001b[0m \u001b[31m3.9 MB/s\u001b[0m eta \u001b[36m0:00:00\u001b[0m\n",
            "\u001b[?25hInstalling collected packages: PyPDF2\n",
            "Successfully installed PyPDF2-3.0.1\n"
          ]
        }
      ],
      "source": [
        "pip install PyPDF2"
      ]
    },
    {
      "cell_type": "code",
      "execution_count": null,
      "metadata": {
        "colab": {
          "base_uri": "https://localhost:8080/"
        },
        "id": "rIBCPYWekpL1",
        "outputId": "1e859328-a196-4f61-fa79-04ae724ba358"
      },
      "outputs": [
        {
          "name": "stdout",
          "output_type": "stream",
          "text": [
            "Requirement already satisfied: WordCloud in /usr/local/lib/python3.10/dist-packages (1.9.3)\n",
            "Requirement already satisfied: numpy>=1.6.1 in /usr/local/lib/python3.10/dist-packages (from WordCloud) (1.25.2)\n",
            "Requirement already satisfied: pillow in /usr/local/lib/python3.10/dist-packages (from WordCloud) (9.4.0)\n",
            "Requirement already satisfied: matplotlib in /usr/local/lib/python3.10/dist-packages (from WordCloud) (3.7.1)\n",
            "Requirement already satisfied: contourpy>=1.0.1 in /usr/local/lib/python3.10/dist-packages (from matplotlib->WordCloud) (1.2.1)\n",
            "Requirement already satisfied: cycler>=0.10 in /usr/local/lib/python3.10/dist-packages (from matplotlib->WordCloud) (0.12.1)\n",
            "Requirement already satisfied: fonttools>=4.22.0 in /usr/local/lib/python3.10/dist-packages (from matplotlib->WordCloud) (4.53.0)\n",
            "Requirement already satisfied: kiwisolver>=1.0.1 in /usr/local/lib/python3.10/dist-packages (from matplotlib->WordCloud) (1.4.5)\n",
            "Requirement already satisfied: packaging>=20.0 in /usr/local/lib/python3.10/dist-packages (from matplotlib->WordCloud) (24.0)\n",
            "Requirement already satisfied: pyparsing>=2.3.1 in /usr/local/lib/python3.10/dist-packages (from matplotlib->WordCloud) (3.1.2)\n",
            "Requirement already satisfied: python-dateutil>=2.7 in /usr/local/lib/python3.10/dist-packages (from matplotlib->WordCloud) (2.8.2)\n",
            "Requirement already satisfied: six>=1.5 in /usr/local/lib/python3.10/dist-packages (from python-dateutil>=2.7->matplotlib->WordCloud) (1.16.0)\n"
          ]
        }
      ],
      "source": [
        "pip install WordCloud"
      ]
    },
    {
      "cell_type": "code",
      "execution_count": null,
      "metadata": {
        "id": "T6ZnJKY8kR0S"
      },
      "outputs": [],
      "source": [
        "import PyPDF2\n",
        "import re\n",
        "import pandas as pd\n",
        "import os\n",
        "from wordcloud import WordCloud"
      ]
    },
    {
      "cell_type": "code",
      "execution_count": null,
      "metadata": {
        "colab": {
          "background_save": true
        },
        "id": "bT7PI7r3kxxb",
        "outputId": "08259b73-5173-4a1f-d399-a02ea06d1b2a"
      },
      "outputs": [
        {
          "ename": "FileNotFoundError",
          "evalue": "[Errno 2] No such file or directory: 'C://Users//18793710792//Desktop//dergipark//yontemler.pdf'",
          "output_type": "error",
          "traceback": [
            "\u001b[0;31m---------------------------------------------------------------------------\u001b[0m",
            "\u001b[0;31mFileNotFoundError\u001b[0m                         Traceback (most recent call last)",
            "\u001b[0;32m<ipython-input-4-4e2153845fa8>\u001b[0m in \u001b[0;36m<cell line: 1>\u001b[0;34m()\u001b[0m\n\u001b[0;32m----> 1\u001b[0;31m \u001b[0mpdfMethodFileObj\u001b[0m \u001b[0;34m=\u001b[0m \u001b[0mopen\u001b[0m\u001b[0;34m(\u001b[0m\u001b[0;34m\"C://Users//18793710792//Desktop//dergipark//yontemler.pdf\"\u001b[0m\u001b[0;34m,\u001b[0m \u001b[0;34m'rb'\u001b[0m\u001b[0;34m)\u001b[0m\u001b[0;34m\u001b[0m\u001b[0;34m\u001b[0m\u001b[0m\n\u001b[0m\u001b[1;32m      2\u001b[0m \u001b[0mpdfText\u001b[0m \u001b[0;34m=\u001b[0m \u001b[0mPyPDF2\u001b[0m\u001b[0;34m.\u001b[0m\u001b[0mPdfReader\u001b[0m\u001b[0;34m(\u001b[0m\u001b[0mpdfMethodFileObj\u001b[0m\u001b[0;34m)\u001b[0m\u001b[0;34m\u001b[0m\u001b[0;34m\u001b[0m\u001b[0m\n\u001b[1;32m      3\u001b[0m \u001b[0;32mfor\u001b[0m \u001b[0mpage\u001b[0m \u001b[0;32min\u001b[0m \u001b[0mpdfText\u001b[0m\u001b[0;34m.\u001b[0m\u001b[0mpages\u001b[0m\u001b[0;34m:\u001b[0m\u001b[0;34m\u001b[0m\u001b[0;34m\u001b[0m\u001b[0m\n\u001b[1;32m      4\u001b[0m     \u001b[0mkelimeListesi\u001b[0m \u001b[0;34m=\u001b[0m \u001b[0mpage\u001b[0m\u001b[0;34m.\u001b[0m\u001b[0mextract_text\u001b[0m\u001b[0;34m(\u001b[0m\u001b[0;34m)\u001b[0m\u001b[0;34m\u001b[0m\u001b[0;34m\u001b[0m\u001b[0m\n\u001b[1;32m      5\u001b[0m \u001b[0mkelimeListesi\u001b[0m \u001b[0;34m=\u001b[0m \u001b[0mkelimeListesi\u001b[0m\u001b[0;34m.\u001b[0m\u001b[0msplit\u001b[0m\u001b[0;34m(\u001b[0m\u001b[0;34m','\u001b[0m\u001b[0;34m)\u001b[0m\u001b[0;34m\u001b[0m\u001b[0;34m\u001b[0m\u001b[0m\n",
            "\u001b[0;31mFileNotFoundError\u001b[0m: [Errno 2] No such file or directory: 'C://Users//18793710792//Desktop//dergipark//yontemler.pdf'"
          ]
        }
      ],
      "source": [
        "pdfMethodFileObj = open(\"C://Users//ozent//OneDrive//Masaüstü//yontemList.pdf\", 'rb')\n",
        "pdfText = PyPDF2.PdfReader(pdfMethodFileObj)\n",
        "for page in pdfText.pages:\n",
        "    kelimeListesi = page.extract_text()\n",
        "kelimeListesi = kelimeListesi.split(',')\n",
        "kelimeListesi"
      ]
    },
    {
      "cell_type": "code",
      "execution_count": null,
      "metadata": {
        "id": "t5UUOvL5lFvT"
      },
      "outputs": [],
      "source": [
        "path = \"C://Users//ozent//OneDrive//Masaüstü//dergiParkPDFDosyasi\"\n",
        "list_path = []\n",
        "for(root, dirs, file) in os.walk(path):\n",
        "    for f in file:\n",
        "        if'.pdf' in f:\n",
        "            list_path.append(\"C://Users//ozent//OneDrive//Masaüstü//dergiParkPDFDosyasi//\" + f)"
      ]
    },
    {
      "cell_type": "code",
      "execution_count": null,
      "metadata": {
        "id": "zcxveO6ClRvZ"
      },
      "outputs": [],
      "source": [
        "df = pd.DataFrame(columns = kelimeListesi)"
      ]
    },
    {
      "cell_type": "code",
      "execution_count": null,
      "metadata": {
        "id": "vKHp93mclYMb"
      },
      "outputs": [],
      "source": [
        "df.insert(loc=(len(kelimeListesi)),\n",
        "          column='Dosya Adı',\n",
        "          value=\"\")"
      ]
    },
    {
      "cell_type": "code",
      "execution_count": null,
      "metadata": {
        "id": "XFkHd0BflY8j"
      },
      "outputs": [],
      "source": [
        "df.insert(loc=(len(kelimeListesi)+1),\n",
        "          column='Yöntem / Yazılım',\n",
        "          value=\"\")"
      ]
    },
    {
      "cell_type": "code",
      "execution_count": null,
      "metadata": {
        "id": "urMe6Br-lbZD"
      },
      "outputs": [],
      "source": [
        "def wordExist(liste, x, pdf):\n",
        "    path = None\n",
        "    array = []\n",
        "    arrayBulunanYontem = []\n",
        "    basename = os.path.basename(x)[:-4]\n",
        "    for word in liste:\n",
        "        index = 0\n",
        "        for page in pdf.pages:\n",
        "            text = page.extract_text()\n",
        "            text=text.lower()\n",
        "            res_search = re.search(word, text)\n",
        "            if word in text:\n",
        "                index = 1\n",
        "                break\n",
        "            else:\n",
        "                index = 0\n",
        "        if(index==1):\n",
        "            arrayBulunanYontem.append(word)\n",
        "        array.append(index)\n",
        "    array.append(basename)\n",
        "    array.append(arrayBulunanYontem)\n",
        "    df.loc[len(df)] = array"
      ]
    },
    {
      "cell_type": "code",
      "execution_count": null,
      "metadata": {
        "id": "GiMFNzLgleKd"
      },
      "outputs": [],
      "source": [
        "def pdfAc(liste_adı):\n",
        "    tur = 0\n",
        "    for x in list_path:\n",
        "        tur +=1\n",
        "        pdfFileObj = open(x, 'rb')\n",
        "        pdf = PyPDF2.PdfReader(pdfFileObj)\n",
        "        wordExist(kelimeListesi,x,pdf)\n",
        "        print(\"TAMAMLANAN PDF SAYISI\")\n",
        "        print(tur)\n",
        "        print(\"********\")"
      ]
    },
    {
      "cell_type": "code",
      "execution_count": null,
      "metadata": {
        "id": "RWy4bkbClgEj"
      },
      "outputs": [],
      "source": [
        "df_last2Columns = df[['Dosya Adı','Yöntem / Yazılım']]"
      ]
    },
    {
      "cell_type": "code",
      "execution_count": null,
      "metadata": {
        "id": "fvnQUJdalj3Y"
      },
      "outputs": [],
      "source": [
        "df.loc['total'] = df.sum(numeric_only=True, axis=0)"
      ]
    },
    {
      "cell_type": "code",
      "execution_count": null,
      "metadata": {
        "id": "uo8IdXFgll2t"
      },
      "outputs": [],
      "source": [
        "df.to_excel('C://Users//ozent//OneDrive//Masaüstü//result1PBpart5.xlsx')"
      ]
    },
    {
      "cell_type": "code",
      "execution_count": null,
      "metadata": {
        "id": "mgLNNx4flooZ"
      },
      "outputs": [],
      "source": [
        "df_last_row = df.iloc[-1:]\n",
        "df_last_row.drop(columns=df_last_row.columns[-2:], axis=1,  inplace=True)"
      ]
    },
    {
      "cell_type": "code",
      "execution_count": null,
      "metadata": {
        "id": "Iv6LJerDl1Ul"
      },
      "outputs": [],
      "source": [
        "df_last_row.to_excel('C://Users//ozent//OneDrive//Masaüstü//result2PBpart5.xlsx')"
      ]
    },
    {
      "cell_type": "code",
      "execution_count": null,
      "metadata": {
        "id": "fuDoXjlrl3nB"
      },
      "outputs": [],
      "source": [
        "dfCloud = pd.read_excel('C://Users//ozent//OneDrive//Masaüstü//PBresult2prog.xlsx')"
      ]
    },
    {
      "cell_type": "code",
      "execution_count": null,
      "metadata": {
        "id": "wBQTUZv6l4LV"
      },
      "outputs": [],
      "source": [
        "dfCloud = dfCloud.drop('Unnamed: 0', axis=1)"
      ]
    },
    {
      "cell_type": "code",
      "execution_count": null,
      "metadata": {
        "id": "wxXYQHizl9TB"
      },
      "outputs": [],
      "source": [
        "string_values = \"\"\n",
        "\n",
        "for x in dfCloud.columns:\n",
        "    val = dfCloud[x]\n",
        "    print(val)\n",
        "    if(int(val) == 0):\n",
        "        continue\n",
        "    for i in range(int(val)):\n",
        "        string_values = string_values + \",\" + x\n",
        "        #print(string_values)"
      ]
    },
    {
      "cell_type": "code",
      "execution_count": null,
      "metadata": {
        "id": "NqDzOO29mAEN"
      },
      "outputs": [],
      "source": [
        "word_cloud = WordCloud(width=900, height=500, collocations=False).generate(string_values)"
      ]
    },
    {
      "cell_type": "code",
      "execution_count": null,
      "metadata": {
        "id": "-338l3ACmCDD"
      },
      "outputs": [],
      "source": [
        "word_cloud.to_image()"
      ]
    }
  ],
  "metadata": {
    "colab": {
      "provenance": []
    },
    "kernelspec": {
      "display_name": "Python 3",
      "name": "python3"
    },
    "language_info": {
      "name": "python"
    }
  },
  "nbformat": 4,
  "nbformat_minor": 0
}